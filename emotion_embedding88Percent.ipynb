{
 "cells": [
  {
   "cell_type": "code",
   "execution_count": 1,
   "metadata": {},
   "outputs": [
    {
     "ename": "ImportError",
     "evalue": "No module named keras.layers",
     "output_type": "error",
     "traceback": [
      "\u001b[1;31m---------------------------------------------------------------------------\u001b[0m",
      "\u001b[1;31mImportError\u001b[0m                               Traceback (most recent call last)",
      "\u001b[1;32m<ipython-input-1-b9585c55be47>\u001b[0m in \u001b[0;36m<module>\u001b[1;34m()\u001b[0m\n\u001b[0;32m      4\u001b[0m \u001b[1;32mimport\u001b[0m \u001b[0mpandas\u001b[0m \u001b[1;32mas\u001b[0m \u001b[0mpd\u001b[0m\u001b[1;33m\u001b[0m\u001b[0m\n\u001b[0;32m      5\u001b[0m \u001b[1;33m\u001b[0m\u001b[0m\n\u001b[1;32m----> 6\u001b[1;33m \u001b[1;32mfrom\u001b[0m \u001b[0mkeras\u001b[0m\u001b[1;33m.\u001b[0m\u001b[0mlayers\u001b[0m \u001b[1;32mimport\u001b[0m \u001b[0mInput\u001b[0m\u001b[1;33m\u001b[0m\u001b[0m\n\u001b[0m\u001b[0;32m      7\u001b[0m \u001b[1;32mfrom\u001b[0m \u001b[0mkeras\u001b[0m\u001b[1;33m.\u001b[0m\u001b[0mlayers\u001b[0m \u001b[1;32mimport\u001b[0m \u001b[0mFlatten\u001b[0m\u001b[1;33m\u001b[0m\u001b[0m\n\u001b[0;32m      8\u001b[0m \u001b[1;32mfrom\u001b[0m \u001b[0mkeras\u001b[0m\u001b[1;33m.\u001b[0m\u001b[0mlayers\u001b[0m \u001b[1;32mimport\u001b[0m \u001b[0mDense\u001b[0m\u001b[1;33m\u001b[0m\u001b[0m\n",
      "\u001b[1;31mImportError\u001b[0m: No module named keras.layers"
     ]
    }
   ],
   "source": [
    "import os\n",
    "import sys\n",
    "import numpy as np\n",
    "import pandas as pd\n",
    "\n",
    "from keras.layers import Input\n",
    "from keras.layers import Flatten\n",
    "from keras.layers import Dense\n",
    "from keras.models import Model\n",
    "from keras.models import Sequential\n",
    "from keras.utils import to_categorical\n",
    "from keras.layers import Embedding\n",
    "from keras.layers import Reshape\n",
    "from keras.layers import Input, Dense, Embedding, Conv2D, MaxPool2D\n",
    "from keras.layers import Reshape, Flatten, Dropout, Concatenate\n",
    "from keras.callbacks import ModelCheckpoint\n",
    "from keras.optimizers import Adam\n",
    "from keras.models import Model\n",
    "from sklearn.model_selection import train_test_split\n",
    "from keras.callbacks import History\n",
    "import matplotlib.pyplot as plt\n",
    "import preprocessor as p\n",
    "from nltk.stem import PorterStemmer\n",
    "import re\n",
    "import RBMFuncs\n",
    "from importlib import reload\n",
    "reload(RBMFuncs)"
   ]
  },
  {
   "cell_type": "code",
   "execution_count": 94,
   "metadata": {},
   "outputs": [],
   "source": [
    "data = pd.read_csv('train_validation_set_withScores.csv' , encoding = 'utf-8')\n",
    "#data = data[data.dummy == 1]\n",
    "emoDict = {'anger' : 0 , 'fear' : 1 , 'joy': 2 , 'sadness' : 3}\n",
    "labels = [] #initializing\n",
    "for emo in data.emotion:\n",
    "    labels.append(emoDict.get(emo))\n",
    "    \n",
    "labels = np.array(labels) #Save it as an array\n",
    "    \n",
    "from keras.preprocessing.text import Tokenizer\n",
    "from keras.preprocessing.sequence import pad_sequences\n",
    "\n",
    "texts = data.text\n",
    "\n",
    "# p.set_options(p.OPT.URL, p.OPT.RESERVED, p.OPT.MENTION)\n",
    "# text = p.clean(text).lower()\n",
    "def clean_text(raw_text):\n",
    "    text = raw_text#.encode('b')\n",
    "    useReplaceDict = {\"don't\" : \"do not\", \"can't\" : \"can not\", \"doesn't\" : \"does not\", \"hasn't\": \"has not\", \n",
    "            \"haven't\" : \"have not\", \"hadn't\" : \"had not\", \"couldn't\" : \"could not\", \"wasn't\" : \"was not\", \"didn't\": \"did not\",\n",
    "             \"weren't\" : \"were not\", \"wouldn't\": \"would not\", \"won't\" : \"would not\", \"shouldn't\": \"should not\", \n",
    "            \"don't\": \"do not\", \"it's\" : \"it is\", \"he's\" : \"he is\", \"she's\" : \"she is\", \"i'm\" : \"i am\", \"i've\" : \"i have\", \n",
    "            \"they've\": \"they have\", \"you've\" : \"you have\", \"we've\": \"we have\", \"ppl\" : \"people\", \"we're\" : \"we are\", \n",
    "            \"i'll\": \"i will\" , \"they're\" : \"they are\", \"he'll\" : \"he will\", \"she'll\" : \"she will\", \"we'll\" : \"we will\" ,\n",
    "            \"they'll\":\"they will\", \"you'll\" : \"you will\", \"w/o\" : \"without out\", \"i'd\" : \"i would\"}\n",
    "    from nltk.corpus import stopwords\n",
    "    nltk_stop_words = set(stopwords.words('english'))\n",
    "    #text = \" \".join([x for x in text.split(\"\\n\")]) #Joins new lines with spaces\n",
    "    text = text.replace(\"\\n\",\" \").replace(\"\\r\",\" \").replace(\"#\",\" \").lower()\n",
    "    text = re.sub(r\"https\\S+\", \"LINK\", text)\n",
    "    text = text.replace(\"&amp;\", \"and\")\n",
    "    text = re.sub(r'/', ' or ', text)\n",
    "    text = re.sub(r'@\\S+', 'MENTION',text)\n",
    "    text = re.sub(r'[\",:.\\-;()|+&=!/?#$@\\[\\]]+', ' ', text)\n",
    "    #text = re.sub(r'www.+' , '' , text)\n",
    "    replaced_text = \"\"\n",
    "    rep_text = useReplaceDict\n",
    "    if useReplaceDict:\n",
    "        for term in text.split():\n",
    "            if term.strip() != '' and term.strip() in rep_text.keys():\n",
    "                replaced_text += rep_text[term] + \" \"\n",
    "            else:\n",
    "                replaced_text += term + \" \"    \n",
    "        text = replaced_text\n",
    "    text = \" \".join([x for x in text.split() if x.strip() not in nltk_stop_words])\n",
    "    text = re.sub(r'[\",:.\\-;()|+&=!?#$@\\[\\]]+', ' ', text)\n",
    "#     print replaced_text\n",
    "    return text#.encode(\"utf-8\")\n",
    "    \n",
    "texts = texts.apply(clean_text)"
   ]
  },
  {
   "cell_type": "code",
   "execution_count": 95,
   "metadata": {},
   "outputs": [],
   "source": [
    "# Variables used in the next cell\n",
    "MAX_NB_WORDS = 7000 #Max number of words to be used in the embedding\n",
    "VALIDATION_SPLIT = .05 #validation split during the fitting of the model\n",
    "sequence_length = 30\n",
    "EMBEDDING_DIM = 200 #set later"
   ]
  },
  {
   "cell_type": "code",
   "execution_count": 96,
   "metadata": {},
   "outputs": [],
   "source": [
    "X = pd.Series(texts , index = data.index)\n",
    "y = pd.Series(labels , index = data.index)\n",
    "#X_train_words, X_test_words, y_train, y_test = train_test_split(X, y, test_size=0.05, random_state=42)"
   ]
  },
  {
   "cell_type": "code",
   "execution_count": 97,
   "metadata": {},
   "outputs": [
    {
     "name": "stdout",
     "output_type": "stream",
     "text": [
      "Found 9438 unique tokens.\n"
     ]
    }
   ],
   "source": [
    "tokenizer = Tokenizer(num_words=MAX_NB_WORDS)\n",
    "tokenizer.fit_on_texts(texts)\n",
    "sequences = tokenizer.texts_to_sequences(X) #actually converting the words in text to integers\n",
    "word_index = tokenizer.word_index #This is a dictionary {}\n",
    "print('Found %s unique tokens.' % len(word_index))\n",
    "\n",
    "MAX_SEQUENCE_LENGTH = sequence_length #pad the tweet length to 30\n",
    "X = pad_sequences(sequences, maxlen = MAX_SEQUENCE_LENGTH , value = 0)"
   ]
  },
  {
   "cell_type": "code",
   "execution_count": 107,
   "metadata": {},
   "outputs": [
    {
     "data": {
      "text/plain": [
       "9439"
      ]
     },
     "execution_count": 107,
     "metadata": {},
     "output_type": "execute_result"
    }
   ],
   "source": [
    "vocabulary_size"
   ]
  },
  {
   "cell_type": "code",
   "execution_count": 98,
   "metadata": {},
   "outputs": [
    {
     "name": "stdout",
     "output_type": "stream",
     "text": [
      "Found 400000 word vectors.\n"
     ]
    }
   ],
   "source": [
    "#This is very time consuming, do not run again and againS\n",
    "GLOVE_DIR = '/emdedding/'\n",
    "embeddings_index = {} #dictionary keys - words and values are the 100 dimension vector\n",
    "f = open(os.path.join(GLOVE_DIR, 'glove.6B.200d.txt')  , encoding=\"utf8\")\n",
    "for line in f:\n",
    "    values = line.split() #each line in the glove text file\n",
    "    word = values[0] #The thing on the 0th position is the word\n",
    "    coefs = np.asarray(values[1:], dtype='float32')\n",
    "    embeddings_index[word] = coefs\n",
    "f.close()\n",
    "\n",
    "print('Found %s word vectors.' % len(embeddings_index))"
   ]
  },
  {
   "cell_type": "code",
   "execution_count": 99,
   "metadata": {},
   "outputs": [],
   "source": [
    "# assemble the embedding_weights in one numpy array\n",
    "vocab_dim = EMBEDDING_DIM # dimensionality of your word vectors\n",
    "n_symbols = len(word_index) + 1 # adding 1 to account for 0th index (for masking)\n",
    "embedding_weights = np.zeros((n_symbols, vocab_dim))\n",
    "for word,index in word_index.items():\n",
    "    try:\n",
    "        embedding_weights[index, :] = embeddings_index[word]\n",
    "    except KeyError:\n",
    "        embedding_weights[index, :] = np.random.randn(1,EMBEDDING_DIM)"
   ]
  },
  {
   "cell_type": "code",
   "execution_count": 110,
   "metadata": {},
   "outputs": [],
   "source": [
    "#sequence_length = X_train.shape[1] #The padded length of the tweet which is MAX_SEQUENCE_LENGTH\n",
    "vocabulary_size = len(word_index) + 1 # 11559 Total number of words, (why did this not change after cleaning)\n",
    "#embedding_dim = 200 #Length of the word vector that I want after embedding\n",
    "filter_sizes = [3,4,5]\n",
    "num_filters = 512\n",
    "drop = 0.3 #Increased from .5 because my model was overfitting a little\n",
    "epochs = 30\n",
    "batch_size = 256"
   ]
  },
  {
   "cell_type": "code",
   "execution_count": 111,
   "metadata": {},
   "outputs": [],
   "source": [
    "X_train, X_test, y_train, y_test = train_test_split( X, y, test_size=0.33, random_state=42)\n",
    "from keras.utils import np_utils\n",
    "from sklearn.preprocessing import LabelEncoder\n",
    "encoder = LabelEncoder()\n",
    "encoder.fit(y_train)\n",
    "encoded_Y = encoder.transform(y_train)\n",
    "# convert integers to dummy variables (i.e. one hot encoded)\n",
    "dummy_y_train = np_utils.to_categorical(encoded_Y)#keras take an input in this form"
   ]
  },
  {
   "cell_type": "code",
   "execution_count": 118,
   "metadata": {},
   "outputs": [
    {
     "data": {
      "text/plain": [
       "(27, 1)"
      ]
     },
     "execution_count": 118,
     "metadata": {},
     "output_type": "execute_result"
    }
   ],
   "source": [
    "sequence_length - filter_sizes[1] + 1, 1"
   ]
  },
  {
   "cell_type": "code",
   "execution_count": 113,
   "metadata": {},
   "outputs": [
    {
     "name": "stdout",
     "output_type": "stream",
     "text": [
      "Training Model...\n",
      "Epoch 1/30\n",
      "2653/2653 [==============================] - 17s 6ms/step - loss: 1.3544 - acc: 0.3389\n",
      "Epoch 2/30\n",
      "2653/2653 [==============================] - 15s 6ms/step - loss: 1.1810 - acc: 0.5149\n",
      "Epoch 3/30\n",
      "2653/2653 [==============================] - 16s 6ms/step - loss: 0.9123 - acc: 0.8564\n",
      "Epoch 4/30\n",
      "2653/2653 [==============================] - 15s 6ms/step - loss: 0.4895 - acc: 0.9600\n",
      "Epoch 5/30\n",
      "2653/2653 [==============================] - 15s 6ms/step - loss: 0.1728 - acc: 0.9736\n",
      "Epoch 6/30\n",
      "2653/2653 [==============================] - 16s 6ms/step - loss: 0.0668 - acc: 0.9838\n",
      "Epoch 7/30\n",
      "2653/2653 [==============================] - 16s 6ms/step - loss: 0.0390 - acc: 0.9879\n",
      "Epoch 8/30\n",
      "2653/2653 [==============================] - 15s 6ms/step - loss: 0.0292 - acc: 0.9902\n",
      "Epoch 9/30\n",
      "2653/2653 [==============================] - 15s 6ms/step - loss: 0.0267 - acc: 0.9887\n",
      "Epoch 10/30\n",
      "2653/2653 [==============================] - 15s 6ms/step - loss: 0.0258 - acc: 0.9879\n",
      "Epoch 11/30\n",
      "2653/2653 [==============================] - 16s 6ms/step - loss: 0.0232 - acc: 0.9883\n",
      "Epoch 12/30\n",
      "2653/2653 [==============================] - 15s 6ms/step - loss: 0.0243 - acc: 0.9883\n",
      "Epoch 13/30\n",
      "2653/2653 [==============================] - 15s 6ms/step - loss: 0.0220 - acc: 0.9887\n",
      "Epoch 14/30\n",
      "2653/2653 [==============================] - 15s 6ms/step - loss: 0.0247 - acc: 0.9887\n",
      "Epoch 15/30\n",
      "2653/2653 [==============================] - 16s 6ms/step - loss: 0.0210 - acc: 0.9906\n",
      "Epoch 16/30\n",
      "2653/2653 [==============================] - 15s 6ms/step - loss: 0.0200 - acc: 0.9883\n",
      "Epoch 17/30\n",
      "2653/2653 [==============================] - 15s 6ms/step - loss: 0.0194 - acc: 0.9891\n",
      "Epoch 18/30\n",
      "2653/2653 [==============================] - 15s 6ms/step - loss: 0.0193 - acc: 0.9894\n",
      "Epoch 19/30\n",
      "2653/2653 [==============================] - 16s 6ms/step - loss: 0.0198 - acc: 0.9887\n",
      "Epoch 20/30\n",
      "2653/2653 [==============================] - 16s 6ms/step - loss: 0.0194 - acc: 0.9894\n",
      "Epoch 21/30\n",
      "2653/2653 [==============================] - 16s 6ms/step - loss: 0.0220 - acc: 0.9883\n",
      "Epoch 22/30\n",
      "2653/2653 [==============================] - 16s 6ms/step - loss: 0.0190 - acc: 0.9898\n",
      "Epoch 23/30\n",
      "2653/2653 [==============================] - 16s 6ms/step - loss: 0.0199 - acc: 0.9891\n",
      "Epoch 24/30\n",
      "2653/2653 [==============================] - 16s 6ms/step - loss: 0.0227 - acc: 0.9883\n",
      "Epoch 25/30\n",
      "2653/2653 [==============================] - 16s 6ms/step - loss: 0.0212 - acc: 0.9887\n",
      "Epoch 26/30\n",
      "2653/2653 [==============================] - 16s 6ms/step - loss: 0.0208 - acc: 0.9894\n",
      "Epoch 27/30\n",
      "2653/2653 [==============================] - 18s 7ms/step - loss: 0.0190 - acc: 0.9887\n",
      "Epoch 28/30\n",
      "2653/2653 [==============================] - 16s 6ms/step - loss: 0.0203 - acc: 0.9906\n",
      "Epoch 29/30\n",
      "2653/2653 [==============================] - 16s 6ms/step - loss: 0.0179 - acc: 0.9894\n",
      "Epoch 30/30\n",
      "2653/2653 [==============================] - 16s 6ms/step - loss: 0.0183 - acc: 0.9906\n"
     ]
    },
    {
     "data": {
      "text/plain": [
       "<keras.callbacks.History at 0x21180f71da0>"
      ]
     },
     "execution_count": 113,
     "metadata": {},
     "output_type": "execute_result"
    }
   ],
   "source": [
    "from keras.regularizers import l2\n",
    "\n",
    "inputs = Input(shape=(sequence_length,), dtype='int32')\n",
    "#embedding = Embedding(input_dim = vocabulary_size, output_dim = embedding_dim, input_length = sequence_length)(inputs)\n",
    "#output shape of reshape is (None , 30 , 100 , 1)\n",
    "embedding_layer = Embedding(output_dim=vocab_dim ,  input_dim=n_symbols, trainable=True)\n",
    "embedding_layer.build((None,)) # if you don't do this, the next step won't work\n",
    "embedding_layer.set_weights([embedding_weights])\n",
    "embedded = embedding_layer(inputs)\n",
    "reshape = Reshape((sequence_length,EMBEDDING_DIM,1))(embedded)\n",
    "\n",
    "\n",
    "embedding = Embedding(input_dim=vocabulary_size, output_dim=EMBEDDING_DIM, input_length=sequence_length)(inputs)\n",
    "reshape = Reshape((sequence_length,EMBEDDING_DIM,1))(embedding)\n",
    "\n",
    "conv_0 = Conv2D(num_filters, kernel_size=(filter_sizes[0], EMBEDDING_DIM), padding='valid', kernel_initializer='normal', activation='relu')(reshape)\n",
    "conv_1 = Conv2D(num_filters, kernel_size=(filter_sizes[1], EMBEDDING_DIM), padding='valid', kernel_initializer='normal', activation='relu')(reshape)\n",
    "conv_2 = Conv2D(num_filters, kernel_size=(filter_sizes[2], EMBEDDING_DIM), padding='valid', kernel_initializer='normal', activation='relu')(reshape)\n",
    "\n",
    "maxpool_0 = MaxPool2D(pool_size=(sequence_length - filter_sizes[0] + 1, 1), strides=(1,1), padding='valid')(conv_0)\n",
    "maxpool_1 = MaxPool2D(pool_size=(sequence_length - filter_sizes[1] + 1, 1), strides=(1,1), padding='valid')(conv_1)\n",
    "maxpool_2 = MaxPool2D(pool_size=(sequence_length - filter_sizes[2] + 1, 1), strides=(1,1), padding='valid')(conv_2)\n",
    "\n",
    "concatenated_tensor = Concatenate(axis=1)([maxpool_0, maxpool_1 , maxpool_2])\n",
    "flatten = Flatten()(concatenated_tensor)\n",
    "dropout = Dropout(drop)(flatten)\n",
    "output = Dense(units=4, activation='softmax')(dropout)\n",
    "\n",
    "# this creates a model that includes\n",
    "model = Model(inputs=inputs, outputs=output)\n",
    "\n",
    "checkpoint = ModelCheckpoint('weights.{epoch:03d}-{val_acc:.4f}.hdf5', monitor='val_acc', verbose=1, save_best_only=True, mode='auto')\n",
    "adam = Adam(lr=.001, beta_1=0.9, beta_2=0.999, epsilon=1e-08, decay=0.0)\n",
    "\n",
    "model.compile(optimizer=adam, loss='categorical_crossentropy', metrics=['accuracy'])\n",
    "print(\"Training Model...\")\n",
    "history = History() #Helps store the errors during all epochs\n",
    "model.fit(X_train, dummy_y_train, batch_size=256, epochs=epochs, )  # starts training"
   ]
  },
  {
   "cell_type": "code",
   "execution_count": 114,
   "metadata": {},
   "outputs": [],
   "source": [
    "from keras.models import load_model\n",
    "model.save('EmotionCNN30March-Overfitting.h5')  # creates a HDF5 file 'my_model.h5'\n",
    "#del model  # deletes the existing model\n",
    "\n",
    "# returns a compiled model\n",
    "# identical to the previous one\n",
    "model = load_model('EmotionCNN30March-Overfitting.h5')"
   ]
  },
  {
   "cell_type": "markdown",
   "metadata": {},
   "source": [
    "# Hyperparameter tuning\n",
    "\n",
    "- https://towardsdatascience.com/a-walkthrough-of-convolutional-neural-network-7f474f91d7bd\n",
    "- Optimal number of **epochs** - After 20, the model starts overfitting\n",
    "- Good default settings for the tested machine learning problems are alpha=0.001, beta1=0.9, beta2=0.999 and epsilon=10−8"
   ]
  },
  {
   "cell_type": "markdown",
   "metadata": {},
   "source": [
    "## Prediction"
   ]
  },
  {
   "cell_type": "code",
   "execution_count": 115,
   "metadata": {},
   "outputs": [
    {
     "name": "stdout",
     "output_type": "stream",
     "text": [
      "The accuracy score is : 86.6%\n"
     ]
    }
   ],
   "source": [
    "y_prob = model.predict(X_test) \n",
    "y_pred = y_prob.argmax(axis=-1)\n",
    "y_actual = [y for y in y_test]\n",
    "\n",
    "from sklearn.metrics import accuracy_score\n",
    "score = accuracy_score(y_true = y_actual , y_pred = y_pred )\n",
    "print(\"The accuracy score is : \" + str(round(score , 3) * 100) + \"%\")"
   ]
  },
  {
   "cell_type": "code",
   "execution_count": 116,
   "metadata": {},
   "outputs": [
    {
     "name": "stdout",
     "output_type": "stream",
     "text": [
      "Confusion matrix, without normalization\n",
      "[[277  19   9  25]\n",
      " [ 13 369  11  32]\n",
      " [  8   4 271   6]\n",
      " [ 10  28  10 215]]\n"
     ]
    },
    {
     "data": {
      "image/png": "[encoded data removed]",
      "text/plain": [
       "<matplotlib.figure.Figure at 0x211f43de320>"
      ]
     },
     "metadata": {},
     "output_type": "display_data"
    }
   ],
   "source": [
    "y_pred_test = model.predict(X_test).argmax(axis = -1)\n",
    "predDfTest = pd.DataFrame({'Actual' : y_test , 'Predicted' : y_pred_test})\n",
    "#valDf = predDf.tail(266)\n",
    "from sklearn.metrics import confusion_matrix\n",
    "cnf_matrix = confusion_matrix(predDfTest.Actual, predDfTest.Predicted)\n",
    "np.set_printoptions(precision=2)\n",
    "plt.figure()\n",
    "class_names = np.array(['anger' , 'fear' ,'joy' , 'sadness'])\n",
    "RBMFuncs.plot_confusion_matrix(cnf_matrix, classes=class_names,\n",
    "                      title='Confusion matrix, without normalization')"
   ]
  },
  {
   "cell_type": "code",
   "execution_count": 184,
   "metadata": {
    "collapsed": true
   },
   "outputs": [],
   "source": [
    "emoDictReverse = {0 : 'anger' , 1 : 'fear' , 2 : 'joy' , 3 : 'sadness'}\n",
    "\n",
    "predictedLabels = [] #initializing\n",
    "for emo in y_pred:\n",
    "    predictedLabels.append(emoDictReverse.get(emo))\n",
    "    \n",
    "actualLabels = [] #Initializing\n",
    "for emo in y_actual:\n",
    "    actualLabels.append(emoDictReverse.get(emo))\n",
    "    \n",
    "predictedLabels = pd.Series(predictedLabels , index = X_test_words.index)\n",
    "actualLabels = pd.Series(actualLabels , index = X_test_words.index)\n",
    "\n",
    "#Converting the final thing into a Data frame\n",
    "predictedDf = pd.concat([X_test_words, predictedLabels, actualLabels], axis=1)\n",
    "predictedDf.columns = ['Tweet' , 'EmotionPredicted' , 'Emotion Actual']"
   ]
  },
  {
   "cell_type": "code",
   "execution_count": 185,
   "metadata": {
    "collapsed": true
   },
   "outputs": [],
   "source": [
    "predictedDf.to_csv('predicted29March.csv')"
   ]
  },
  {
   "cell_type": "markdown",
   "metadata": {
    "collapsed": true
   },
   "source": [
    "## References\n",
    "- https://towardsdatascience.com/deep-learning-4-embedding-layers-f9a02d55ac12\n",
    "- https://github.com/s/preprocessor - preprocessor documentation"
   ]
  }
 ],
 "metadata": {
  "kernelspec": {
   "display_name": "Python 2",
   "language": "python",
   "name": "python2"
  },
  "language_info": {
   "codemirror_mode": {
    "name": "ipython",
    "version": 2
   },
   "file_extension": ".py",
   "mimetype": "text/x-python",
   "name": "python",
   "nbconvert_exporter": "python",
   "pygments_lexer": "ipython2",
   "version": "2.7.16"
  }
 },
 "nbformat": 4,
 "nbformat_minor": 2
}
